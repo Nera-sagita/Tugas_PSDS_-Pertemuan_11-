{
  "nbformat": 4,
  "nbformat_minor": 0,
  "metadata": {
    "colab": {
      "provenance": []
    },
    "kernelspec": {
      "name": "python3",
      "display_name": "Python 3"
    },
    "language_info": {
      "name": "python"
    }
  },
  "cells": [
    {
      "cell_type": "markdown",
      "source": [
        "Nama  : Nera Sagita Fradityas\n",
        "\n",
        "Nim   : 2100015014\n",
        "\n",
        "TUGAS PSDS KELAS DASAR PERTEMUAN KE-11\n"
      ],
      "metadata": {
        "id": "PDGNjiWEgddF"
      }
    },
    {
      "cell_type": "markdown",
      "source": [
        "1.Buatlah fungsi lambda untuk menghitung fungsi dari persegi panjang\n"
      ],
      "metadata": {
        "id": "eZf3UqPigZxW"
      }
    },
    {
      "cell_type": "code",
      "source": [
        "panjang = int(input(\"panjang :\"))\n",
        "lebar = int(input(\"lebar :\"))\n",
        "f = lambda alas,tinggi : panjang*lebar\n",
        "val = f(panjang,lebar)\n",
        "print(val)"
      ],
      "metadata": {
        "colab": {
          "base_uri": "https://localhost:8080/"
        },
        "id": "mExtjnNHoEwo",
        "outputId": "c302bed2-b30c-4901-e9b1-d97bc9ddc88f"
      },
      "execution_count": 20,
      "outputs": [
        {
          "output_type": "stream",
          "name": "stdout",
          "text": [
            "panjang :5\n",
            "lebar :8\n",
            "40\n"
          ]
        }
      ]
    },
    {
      "cell_type": "markdown",
      "source": [
        "2.Buatlah fungsi lambda untuk menghitung luas dari segitiga"
      ],
      "metadata": {
        "id": "XnTQc3ckgcSw"
      }
    },
    {
      "cell_type": "code",
      "source": [
        "alas = int(input(\"alas :\"))\n",
        "tinggi = int(input(\"tinggi :\"))\n",
        "f = lambda alas,tinggi : alas*tinggi*0.5\n",
        "val = f(alas,tinggi)\n",
        "print(val)"
      ],
      "metadata": {
        "colab": {
          "base_uri": "https://localhost:8080/"
        },
        "id": "p7Nma3xtk7M4",
        "outputId": "5b765829-113f-4048-a45d-65ac1d30d29e"
      },
      "execution_count": 17,
      "outputs": [
        {
          "output_type": "stream",
          "name": "stdout",
          "text": [
            "alas :3\n",
            "tinggi :10\n",
            "15.0\n"
          ]
        }
      ]
    }
  ]
}